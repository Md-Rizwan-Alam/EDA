{
 "cells": [
  {
   "cell_type": "markdown",
   "id": "4b7735b4-32f1-46f4-a917-8b370e637d93",
   "metadata": {},
   "source": [
    "Question: 1. Define a doubly linked list [Will be done in the class ]"
   ]
  },
  {
   "cell_type": "code",
   "execution_count": 2,
   "id": "378bc9b5-0df4-494d-b185-22cff475786c",
   "metadata": {
    "tags": []
   },
   "outputs": [],
   "source": [
    "#Answer"
   ]
  },
  {
   "cell_type": "markdown",
   "id": "f4b2ba29-fb6c-4d7d-8509-32be43f4f511",
   "metadata": {},
   "source": [
    "\n",
    "A doubly linked list is a data structure consisting of a sequence of elements, called nodes, where each node contains two references or pointers"
   ]
  },
  {
   "cell_type": "code",
   "execution_count": 8,
   "id": "48d687c1-3346-4e87-8e64-1b652904cc88",
   "metadata": {
    "tags": []
   },
   "outputs": [
    {
     "name": "stdout",
     "output_type": "stream",
     "text": [
      "Doubly Linked List:\n",
      "1 2 3 \n"
     ]
    }
   ],
   "source": [
    "class Node:\n",
    "    def __init__(self, data):\n",
    "        self.data = data\n",
    "        self.prev = None\n",
    "        self.next = None\n",
    "\n",
    "class DoublyLinkedList:\n",
    "    def __init__(self):\n",
    "        self.head = None\n",
    "\n",
    "    def append(self, data):\n",
    "        new_node = Node(data)\n",
    "        if not self.head:\n",
    "            self.head = new_node\n",
    "        else:\n",
    "            current = self.head\n",
    "            while current.next:\n",
    "                current = current.next\n",
    "            current.next = new_node\n",
    "            new_node.prev = current\n",
    "\n",
    "    def display(self):\n",
    "        current = self.head\n",
    "        while current:\n",
    "            print(current.data, end=\" \")\n",
    "            current = current.next\n",
    "        print()\n",
    "\n",
    "# Example usage:\n",
    "dll = DoublyLinkedList()\n",
    "dll.append(1)\n",
    "dll.append(2)\n",
    "dll.append(3)\n",
    "\n",
    "print(\"Doubly Linked List:\")\n",
    "dll.display()\n"
   ]
  },
  {
   "cell_type": "code",
   "execution_count": null,
   "id": "ceb335b1-a62d-44bc-b33c-f5c00c5e41de",
   "metadata": {},
   "outputs": [],
   "source": []
  },
  {
   "cell_type": "code",
   "execution_count": null,
   "id": "9bbbf03d-9d69-4ab1-867c-3f98085f9cbc",
   "metadata": {},
   "outputs": [],
   "source": []
  },
  {
   "cell_type": "markdown",
   "id": "666ded70-4c4b-4f47-9376-aed5d37393a6",
   "metadata": {},
   "source": [
    "Question: 2. Write a function to reverse a linked list in-place"
   ]
  },
  {
   "cell_type": "code",
   "execution_count": 10,
   "id": "177ddf8c-6860-4c95-9d75-750b2a65769c",
   "metadata": {
    "tags": []
   },
   "outputs": [],
   "source": [
    "#Answer"
   ]
  },
  {
   "cell_type": "code",
   "execution_count": 12,
   "id": "8fe9857c-2ea6-4a86-aee2-98bd2ec61316",
   "metadata": {
    "tags": []
   },
   "outputs": [],
   "source": [
    "class ListNode:\n",
    "    def __init__(self, val=0, next=None):\n",
    "        self.val = val\n",
    "        self.next = next\n",
    "\n",
    "def reverse_linked_list(head):\n",
    "    prev_node = None\n",
    "    current_node = head\n",
    "    \n",
    "    while current_node:\n",
    "        next_node = current_node.next\n",
    "        current_node.next = prev_node\n",
    "        prev_node = current_node\n",
    "        current_node = next_node\n",
    "    \n",
    "    return prev_node\n",
    "\n",
    "\n",
    "def print_linked_list(head):\n",
    "    current = head\n",
    "    while current:\n",
    "        print(current.val, end=\" -> \")\n",
    "        current = current.next\n",
    "    print(\"None\")\n",
    "\n"
   ]
  },
  {
   "cell_type": "code",
   "execution_count": 14,
   "id": "a6bccec1-5fa4-4b1d-b346-b621c841806f",
   "metadata": {
    "tags": []
   },
   "outputs": [],
   "source": [
    "head = ListNode(1)\n",
    "head.next = ListNode(2)\n",
    "head.next.next = ListNode(3)\n",
    "head.next.next.next = ListNode(4)\n"
   ]
  },
  {
   "cell_type": "code",
   "execution_count": 16,
   "id": "a95b8f9f-e83c-4e5c-ba8f-ce3c1c142884",
   "metadata": {
    "tags": []
   },
   "outputs": [
    {
     "name": "stdout",
     "output_type": "stream",
     "text": [
      "Original linked list:\n",
      "1 -> 2 -> 3 -> 4 -> None\n",
      "Reversed linked list:\n",
      "4 -> 3 -> 2 -> 1 -> None\n"
     ]
    }
   ],
   "source": [
    "print(\"Original linked list:\")\n",
    "print_linked_list(head)\n",
    "\n",
    "head = reverse_linked_list(head)\n",
    "\n",
    "print(\"Reversed linked list:\")\n",
    "print_linked_list(head)"
   ]
  },
  {
   "cell_type": "code",
   "execution_count": null,
   "id": "1accab4c-273e-4980-9cbc-2b96fcc83efb",
   "metadata": {},
   "outputs": [],
   "source": []
  },
  {
   "cell_type": "code",
   "execution_count": null,
   "id": "51cea4b1-b2e9-4c46-8e64-8ea831478657",
   "metadata": {},
   "outputs": [],
   "source": []
  },
  {
   "cell_type": "markdown",
   "id": "31854db7-73e1-4fd3-ab5d-84987cf88388",
   "metadata": {},
   "source": [
    "Question: 3. Detect cycle in a linked list"
   ]
  },
  {
   "cell_type": "code",
   "execution_count": 18,
   "id": "04821e89-c2c1-4b2f-914c-345f47d0d413",
   "metadata": {
    "tags": []
   },
   "outputs": [],
   "source": [
    "#Answer"
   ]
  },
  {
   "cell_type": "code",
   "execution_count": 20,
   "id": "9d27b4a5-84cd-43e7-8035-5644ee6429b4",
   "metadata": {
    "tags": []
   },
   "outputs": [],
   "source": [
    "class ListNode:\n",
    "    def __init__(self, val=0, next=None):\n",
    "        self.val = val\n",
    "        self.next = next\n",
    "\n",
    "def has_cycle(head):\n",
    "    if not head or not head.next:\n",
    "        return False\n",
    "    \n",
    "    slow = head\n",
    "    fast = head.next\n",
    "    \n",
    "    while fast and fast.next:\n",
    "        if slow == fast:\n",
    "            return True\n",
    "        slow = slow.next\n",
    "        fast = fast.next.next\n",
    "    \n",
    "    return False\n",
    "\n",
    "\n"
   ]
  },
  {
   "cell_type": "code",
   "execution_count": 22,
   "id": "13bb9f14-d491-4b09-8f4d-1f8ff595f153",
   "metadata": {
    "tags": []
   },
   "outputs": [
    {
     "name": "stdout",
     "output_type": "stream",
     "text": [
      "The linked list has a cycle.\n"
     ]
    }
   ],
   "source": [
    "head = ListNode(3)\n",
    "head.next = ListNode(2)\n",
    "head.next.next = ListNode(0)\n",
    "head.next.next.next = ListNode(-4)\n",
    "\n",
    "head.next.next.next.next = head.next\n",
    "\n",
    "if has_cycle(head):\n",
    "    print(\"The linked list has a cycle.\")\n",
    "else:\n",
    "    print(\"The linked list does not have a cycle.\")"
   ]
  },
  {
   "cell_type": "code",
   "execution_count": null,
   "id": "613e1924-bb86-41c5-bb65-40f830d36b86",
   "metadata": {},
   "outputs": [],
   "source": []
  },
  {
   "cell_type": "code",
   "execution_count": null,
   "id": "de597539-3285-41bd-b767-21036d311fa3",
   "metadata": {},
   "outputs": [],
   "source": []
  },
  {
   "cell_type": "markdown",
   "id": "a923e650-a17c-4c1e-a588-f9fbf2df303a",
   "metadata": {},
   "source": [
    "Question: 4. Merge two sorted linked list into one\n",
    "1->3->5->6->null and 2->4->6->8->null should be merged to make 1->2->3->4->5->6->7->8"
   ]
  },
  {
   "cell_type": "code",
   "execution_count": 24,
   "id": "092d0516-9bc3-44de-92e8-69df06d020a5",
   "metadata": {
    "tags": []
   },
   "outputs": [],
   "source": [
    "#Answer"
   ]
  },
  {
   "cell_type": "code",
   "execution_count": 26,
   "id": "79422338-05f7-4fff-bd9b-eb7265837364",
   "metadata": {
    "tags": []
   },
   "outputs": [
    {
     "name": "stdout",
     "output_type": "stream",
     "text": [
      "First sorted linked list:\n",
      "1 -> 3 -> 5 -> 6 -> None\n",
      "Second sorted linked list:\n",
      "2 -> 4 -> 6 -> 8 -> None\n",
      "Merged sorted linked list:\n",
      "1 -> 2 -> 3 -> 4 -> 5 -> 6 -> 6 -> 8 -> None\n"
     ]
    }
   ],
   "source": [
    "class ListNode:\n",
    "    def __init__(self, val=0, next=None):\n",
    "        self.val = val\n",
    "        self.next = next\n",
    "\n",
    "def merge_two_lists(l1, l2):\n",
    "    dummy = ListNode(0)\n",
    "    current = dummy\n",
    "    \n",
    "    while l1 and l2:\n",
    "        if l1.val < l2.val:\n",
    "            current.next = l1\n",
    "            l1 = l1.next\n",
    "        else:\n",
    "            current.next = l2\n",
    "            l2 = l2.next\n",
    "        current = current.next\n",
    "    \n",
    "    if l1:\n",
    "        current.next = l1\n",
    "    elif l2:\n",
    "        current.next = l2\n",
    "    \n",
    "    return dummy.next\n",
    "\n",
    "def print_linked_list(head):\n",
    "    current = head\n",
    "    while current:\n",
    "        print(current.val, end=\" -> \")\n",
    "        current = current.next\n",
    "    print(\"None\")\n",
    "\n",
    "\n",
    "l1 = ListNode(1)\n",
    "l1.next = ListNode(3)\n",
    "l1.next.next = ListNode(5)\n",
    "l1.next.next.next = ListNode(6)\n",
    "\n",
    "l2 = ListNode(2)\n",
    "l2.next = ListNode(4)\n",
    "l2.next.next = ListNode(6)\n",
    "l2.next.next.next = ListNode(8)\n",
    "\n",
    "print(\"First sorted linked list:\")\n",
    "print_linked_list(l1)\n",
    "print(\"Second sorted linked list:\")\n",
    "print_linked_list(l2)\n",
    "\n",
    "merged_list = merge_two_lists(l1, l2)\n",
    "print(\"Merged sorted linked list:\")\n",
    "print_linked_list(merged_list)\n"
   ]
  },
  {
   "cell_type": "code",
   "execution_count": null,
   "id": "9fd85411-d63d-4c1b-a863-8533f8f5a580",
   "metadata": {},
   "outputs": [],
   "source": []
  },
  {
   "cell_type": "code",
   "execution_count": null,
   "id": "d728cf8b-a161-408b-9483-781ccad8db2b",
   "metadata": {},
   "outputs": [],
   "source": []
  },
  {
   "cell_type": "markdown",
   "id": "d1156ca9-cdcf-4c9c-b50a-0dafc9896011",
   "metadata": {},
   "source": [
    "Question: 5. Write a function to remove nth node from the end in a linked list\n",
    "1->2->3->4->5->6, removing 2nd node from end will return 1->2->3->4->6"
   ]
  },
  {
   "cell_type": "code",
   "execution_count": 29,
   "id": "35d9b863-6760-44c2-9dc3-d81847febc86",
   "metadata": {
    "tags": []
   },
   "outputs": [],
   "source": [
    "#Answer"
   ]
  },
  {
   "cell_type": "code",
   "execution_count": 31,
   "id": "627ced2a-6be1-4ede-9aae-6f32cac218a5",
   "metadata": {
    "tags": []
   },
   "outputs": [
    {
     "name": "stdout",
     "output_type": "stream",
     "text": [
      "Original linked list:\n",
      "1 -> 2 -> 3 -> 4 -> 5 -> 6 -> None\n",
      "Linked list after removing 2th node from the end:\n",
      "1 -> 2 -> 3 -> 4 -> 6 -> None\n"
     ]
    }
   ],
   "source": [
    "class ListNode:\n",
    "    def __init__(self, val=0, next=None):\n",
    "        self.val = val\n",
    "        self.next = next\n",
    "\n",
    "def remove_nth_from_end(head, n):\n",
    "    dummy = ListNode(0)\n",
    "    dummy.next = head\n",
    "    first = dummy\n",
    "    second = dummy\n",
    "    \n",
    "    \n",
    "    for _ in range(n + 1):\n",
    "        first = first.next\n",
    "    \n",
    "    \n",
    "    while first:\n",
    "        first = first.next\n",
    "        second = second.next\n",
    "    \n",
    "    \n",
    "    second.next = second.next.next\n",
    "    \n",
    "    return dummy.next\n",
    "\n",
    "def print_linked_list(head):\n",
    "    current = head\n",
    "    while current:\n",
    "        print(current.val, end=\" -> \")\n",
    "        current = current.next\n",
    "    print(\"None\")\n",
    "\n",
    "\n",
    "head = ListNode(1)\n",
    "head.next = ListNode(2)\n",
    "head.next.next = ListNode(3)\n",
    "head.next.next.next = ListNode(4)\n",
    "head.next.next.next.next = ListNode(5)\n",
    "head.next.next.next.next.next = ListNode(6)\n",
    "\n",
    "print(\"Original linked list:\")\n",
    "print_linked_list(head)\n",
    "\n",
    "n = 2  \n",
    "\n",
    "head = remove_nth_from_end(head, n)\n",
    "print(f\"Linked list after removing {n}th node from the end:\")\n",
    "print_linked_list(head)\n"
   ]
  },
  {
   "cell_type": "code",
   "execution_count": null,
   "id": "30167ffe-670a-4067-91c0-434562a50c3e",
   "metadata": {},
   "outputs": [],
   "source": []
  },
  {
   "cell_type": "code",
   "execution_count": null,
   "id": "13b99bf9-557d-4d9c-82db-da216adb2a30",
   "metadata": {},
   "outputs": [],
   "source": []
  },
  {
   "cell_type": "markdown",
   "id": "8c19e6c1-af13-473d-9605-2b7d80903a6b",
   "metadata": {},
   "source": [
    "Question: 6. Remove duplicates from a sorted linked list\n",
    "1->2->3->3->4->4->4->5 should be changed to 1->2->3->4->5"
   ]
  },
  {
   "cell_type": "code",
   "execution_count": 34,
   "id": "29dee950-45c7-4e3f-b9f2-573b9fa0717e",
   "metadata": {
    "tags": []
   },
   "outputs": [],
   "source": [
    "#Answer"
   ]
  },
  {
   "cell_type": "code",
   "execution_count": 36,
   "id": "13c287fb-d79b-4cc6-9b16-1133cc868783",
   "metadata": {
    "tags": []
   },
   "outputs": [
    {
     "name": "stdout",
     "output_type": "stream",
     "text": [
      "Original sorted linked list:\n",
      "1 -> 2 -> 3 -> 3 -> 4 -> 4 -> 4 -> 5 -> None\n",
      "Sorted linked list after removing duplicates:\n",
      "1 -> 2 -> 3 -> 4 -> 5 -> None\n"
     ]
    }
   ],
   "source": [
    "class ListNode:\n",
    "    def __init__(self, val=0, next=None):\n",
    "        self.val = val\n",
    "        self.next = next\n",
    "\n",
    "def delete_duplicates(head):\n",
    "    current = head\n",
    "    \n",
    "    while current and current.next:\n",
    "        if current.val == current.next.val:\n",
    "            current.next = current.next.next\n",
    "        else:\n",
    "            current = current.next\n",
    "    \n",
    "    return head\n",
    "\n",
    "def print_linked_list(head):\n",
    "    current = head\n",
    "    while current:\n",
    "        print(current.val, end=\" -> \")\n",
    "        current = current.next\n",
    "    print(\"None\")\n",
    "\n",
    "\n",
    "head = ListNode(1)\n",
    "head.next = ListNode(2)\n",
    "head.next.next = ListNode(3)\n",
    "head.next.next.next = ListNode(3)\n",
    "head.next.next.next.next = ListNode(4)\n",
    "head.next.next.next.next.next = ListNode(4)\n",
    "head.next.next.next.next.next.next = ListNode(4)\n",
    "head.next.next.next.next.next.next.next = ListNode(5)\n",
    "\n",
    "print(\"Original sorted linked list:\")\n",
    "print_linked_list(head)\n",
    "\n",
    "head = delete_duplicates(head)\n",
    "print(\"Sorted linked list after removing duplicates:\")\n",
    "print_linked_list(head)\n"
   ]
  },
  {
   "cell_type": "code",
   "execution_count": null,
   "id": "1007e350-2141-42d0-ae5c-425086100211",
   "metadata": {},
   "outputs": [],
   "source": []
  },
  {
   "cell_type": "code",
   "execution_count": null,
   "id": "691262a4-9ff0-4e28-9782-7f8458e82e0f",
   "metadata": {},
   "outputs": [],
   "source": []
  },
  {
   "cell_type": "markdown",
   "id": "884147c8-e867-47a4-8c05-f56ea79197e9",
   "metadata": {},
   "source": [
    "Question: 7. Find the intersection of the two linked lists\n",
    "1->2->3->4->8->6->95->1->6->7, intersection 1->6"
   ]
  },
  {
   "cell_type": "code",
   "execution_count": 57,
   "id": "42e03cd3-f22e-4e66-98b2-1dd403534874",
   "metadata": {
    "tags": []
   },
   "outputs": [
    {
     "name": "stdout",
     "output_type": "stream",
     "text": [
      "First linked list:\n",
      "1 -> 2 -> 3 -> 4 -> 8 -> 6 -> 95 -> 1 -> 6 -> 7 -> None\n",
      "Second linked list:\n",
      "1 -> 1 -> 6 -> 7 -> None\n",
      "Intersection node value: 1\n"
     ]
    }
   ],
   "source": [
    "class ListNode:\n",
    "    def __init__(self, val=0, next=None):\n",
    "        self.val = val\n",
    "        self.next = next\n",
    "\n",
    "def get_intersection_node(headA, headB):\n",
    "    \n",
    "    def get_length(head):\n",
    "        length = 0\n",
    "        while head:\n",
    "            length += 1\n",
    "            head = head.next\n",
    "        return length\n",
    "    \n",
    "    \n",
    "    lengthA = get_length(headA)\n",
    "    lengthB = get_length(headB)\n",
    "    \n",
    "    \n",
    "    while lengthA > lengthB:\n",
    "        headA = headA.next\n",
    "        lengthA -= 1\n",
    "    while lengthB > lengthA:\n",
    "        headB = headB.next\n",
    "        lengthB -= 1\n",
    "    \n",
    "    \n",
    "    while headA != headB:\n",
    "        headA = headA.next\n",
    "        headB = headB.next\n",
    "    \n",
    "    return headA\n",
    "\n",
    "headA = ListNode(1)\n",
    "headA.next = ListNode(2)\n",
    "headA.next.next = ListNode(3)\n",
    "headA.next.next.next = ListNode(4)\n",
    "headA.next.next.next.next = ListNode(8)\n",
    "headA.next.next.next.next.next = ListNode(6)\n",
    "headA.next.next.next.next.next.next = ListNode(95)\n",
    "intersection_node = ListNode(1)\n",
    "headA.next.next.next.next.next.next.next = intersection_node\n",
    "headA.next.next.next.next.next.next.next.next = ListNode(6)\n",
    "headA.next.next.next.next.next.next.next.next.next = ListNode(7)\n",
    "\n",
    "headB = ListNode(1)\n",
    "headB.next = intersection_node\n",
    "\n",
    "print(\"First linked list:\")\n",
    "current = headA\n",
    "while current:\n",
    "    print(current.val, end=\" -> \")\n",
    "    current = current.next\n",
    "print(\"None\")\n",
    "\n",
    "print(\"Second linked list:\")\n",
    "current = headB\n",
    "while current:\n",
    "    print(current.val, end=\" -> \")\n",
    "    current = current.next\n",
    "print(\"None\")\n",
    "\n",
    "intersection = get_intersection_node(headA, headB)\n",
    "if intersection:\n",
    "    print(\"Intersection node value:\", intersection.val)\n",
    "else:\n",
    "    print(\"There is no intersection.\")\n"
   ]
  },
  {
   "cell_type": "code",
   "execution_count": null,
   "id": "04030969-ec49-477d-a256-2e4e001f85ea",
   "metadata": {},
   "outputs": [],
   "source": []
  },
  {
   "cell_type": "code",
   "execution_count": null,
   "id": "05fa012a-86f9-4337-b181-710425129a0f",
   "metadata": {},
   "outputs": [],
   "source": []
  },
  {
   "cell_type": "markdown",
   "id": "21a2e769-420d-40f8-9985-3d6bcedd6a7c",
   "metadata": {},
   "source": [
    "Question: 8. Rotate a linked list by k positions to the right\n",
    "1->2->3->4->8->6->9, after rotating for 2 times becomes, 3-4->8->6->9->1->2"
   ]
  },
  {
   "cell_type": "code",
   "execution_count": 60,
   "id": "ad32e37e-0e0e-4747-95b5-46684ff267a5",
   "metadata": {
    "tags": []
   },
   "outputs": [],
   "source": [
    "#Answer"
   ]
  },
  {
   "cell_type": "code",
   "execution_count": 64,
   "id": "83a8c778-87bc-44fd-b8b8-e0cbec37271d",
   "metadata": {
    "tags": []
   },
   "outputs": [
    {
     "name": "stdout",
     "output_type": "stream",
     "text": [
      "Original linked list:\n",
      "1 -> 2 -> 3 -> 4 -> 8 -> 6 -> 9 -> None\n",
      "Linked list after rotating by 2 positions to the right:\n",
      "6 -> 9 -> 1 -> 2 -> 3 -> 4 -> 8 -> None\n"
     ]
    }
   ],
   "source": [
    "class ListNode:\n",
    "    def __init__(self, val=0, next=None):\n",
    "        self.val = val\n",
    "        self.next = next\n",
    "\n",
    "def rotate_right(head, k):\n",
    "    if not head or k == 0:\n",
    "        return head\n",
    "    \n",
    "    \n",
    "    length = 1\n",
    "    tail = head\n",
    "    while tail.next:\n",
    "        length += 1\n",
    "        tail = tail.next\n",
    "    \n",
    "    \n",
    "    k %= length\n",
    "    \n",
    "    \n",
    "    if k == 0:\n",
    "        return head\n",
    "    \n",
    "    \n",
    "    new_tail_position = length - k - 1\n",
    "    new_tail = head\n",
    "    for _ in range(new_tail_position):\n",
    "        new_tail = new_tail.next\n",
    "    \n",
    "    \n",
    "    new_head = new_tail.next\n",
    "    new_tail.next = None\n",
    "    \n",
    "    \n",
    "    tail.next = head\n",
    "    \n",
    "    return new_head\n",
    "\n",
    "def print_linked_list(head):\n",
    "    current = head\n",
    "    while current:\n",
    "        print(current.val, end=\" -> \")\n",
    "        current = current.next\n",
    "    print(\"None\")\n",
    "\n",
    "head = ListNode(1)\n",
    "head.next = ListNode(2)\n",
    "head.next.next = ListNode(3)\n",
    "head.next.next.next = ListNode(4)\n",
    "head.next.next.next.next = ListNode(8)\n",
    "head.next.next.next.next.next = ListNode(6)\n",
    "head.next.next.next.next.next.next = ListNode(9)\n",
    "\n",
    "print(\"Original linked list:\")\n",
    "print_linked_list(head)\n",
    "\n",
    "k = 2  \n",
    "\n",
    "rotated_head = rotate_right(head, k)\n",
    "print(f\"Linked list after rotating by {k} positions to the right:\")\n",
    "print_linked_list(rotated_head)\n"
   ]
  },
  {
   "cell_type": "code",
   "execution_count": null,
   "id": "5f3010a0-67ad-48ad-95b4-7d2912d59895",
   "metadata": {},
   "outputs": [],
   "source": []
  },
  {
   "cell_type": "code",
   "execution_count": null,
   "id": "89b062c8-0123-4132-b248-c53b75db23d9",
   "metadata": {},
   "outputs": [],
   "source": []
  },
  {
   "cell_type": "markdown",
   "id": "53fb43ea-bfc4-48b1-9557-81ed71113f0e",
   "metadata": {},
   "source": [
    "Question: 9. Add Two Numbers Represented by LinkedLists:\n",
    "Given two non-empty linked lists representing two non-negative integers, where the digits are stored in reverse order, add the two numbers and return it as a linked list."
   ]
  },
  {
   "cell_type": "code",
   "execution_count": 67,
   "id": "8b15ee4d-24f9-426a-921b-371db94956c9",
   "metadata": {
    "tags": []
   },
   "outputs": [],
   "source": [
    "#Answer"
   ]
  },
  {
   "cell_type": "code",
   "execution_count": 71,
   "id": "518ba0ff-28ed-4f96-aa0a-0873750878cc",
   "metadata": {
    "tags": []
   },
   "outputs": [
    {
     "name": "stdout",
     "output_type": "stream",
     "text": [
      "First linked list representing the number 243:\n",
      "3 -> 4 -> 2 -> None\n",
      "Second linked list representing the number 564:\n",
      "4 -> 6 -> 5 -> None\n",
      "Result of adding the two numbers:\n",
      "7 -> 0 -> 8 -> None\n"
     ]
    }
   ],
   "source": [
    "class ListNode:\n",
    "    def __init__(self, val=0, next=None):\n",
    "        self.val = val\n",
    "        self.next = next\n",
    "\n",
    "def add_two_numbers(l1, l2):\n",
    "    dummy_head = ListNode()\n",
    "    current = dummy_head\n",
    "    carry = 0\n",
    "    \n",
    "    while l1 or l2 or carry:\n",
    "        sum_val = carry\n",
    "        \n",
    "        if l1:\n",
    "            sum_val += l1.val\n",
    "            l1 = l1.next\n",
    "        if l2:\n",
    "            sum_val += l2.val\n",
    "            l2 = l2.next\n",
    "        \n",
    "        carry = sum_val // 10\n",
    "        sum_val %= 10\n",
    "        \n",
    "        current.next = ListNode(sum_val)\n",
    "        current = current.next\n",
    "    \n",
    "    return dummy_head.next\n",
    "\n",
    "def print_linked_list(head):\n",
    "    current = head\n",
    "    while current:\n",
    "        print(current.val, end=\" -> \")\n",
    "        current = current.next\n",
    "    print(\"None\")\n",
    "\n",
    "l1 = ListNode(3)\n",
    "l1.next = ListNode(4)\n",
    "l1.next.next = ListNode(2)\n",
    "\n",
    "l2 = ListNode(4)\n",
    "l2.next = ListNode(6)\n",
    "l2.next.next = ListNode(5)\n",
    "\n",
    "print(\"First linked list representing the number 243:\")\n",
    "print_linked_list(l1)\n",
    "print(\"Second linked list representing the number 564:\")\n",
    "print_linked_list(l2)\n",
    "\n",
    "result = add_two_numbers(l1, l2)\n",
    "print(\"Result of adding the two numbers:\")\n",
    "print_linked_list(result)\n"
   ]
  },
  {
   "cell_type": "code",
   "execution_count": null,
   "id": "97cdb1d5-4a1d-4dee-91da-ce527eb7f2c7",
   "metadata": {},
   "outputs": [],
   "source": []
  },
  {
   "cell_type": "code",
   "execution_count": null,
   "id": "7259b5d1-42fd-4383-9cf8-dd5e000fa563",
   "metadata": {},
   "outputs": [],
   "source": []
  },
  {
   "cell_type": "markdown",
   "id": "1eb5d2dd-6400-4edc-baf7-07382d55310f",
   "metadata": {},
   "source": [
    "Question: 10. Clone a Linked List with next and Random Pointer\n",
    "Given a linked list of size N where each node has two links: one pointer points to the next node and the second pointer points to any node in the list. The task is to create a clone of this linked list in O(N) time.\n",
    "Note: The pointer pointing to the next node is ‘next’ pointer and the one pointing to an arbitrary node is called ‘arbit’ pointer as it can point to any arbitrary node in the linked list."
   ]
  },
  {
   "cell_type": "code",
   "execution_count": 74,
   "id": "2880858e-ae97-4d65-9c54-7142669fc557",
   "metadata": {
    "tags": []
   },
   "outputs": [],
   "source": [
    "#Answer"
   ]
  },
  {
   "cell_type": "code",
   "execution_count": 78,
   "id": "568c6556-39c9-4753-b87d-c47e80b4d49f",
   "metadata": {
    "tags": []
   },
   "outputs": [
    {
     "name": "stdout",
     "output_type": "stream",
     "text": [
      "Original linked list:\n",
      "Value: 1, Random: 3\n",
      "Value: 2, Random: 1\n",
      "Value: 3, Random: 3\n",
      "Value: 4, Random: 2\n",
      "Cloned linked list:\n",
      "Value: 1, Random: 3\n",
      "Value: 2, Random: 1\n",
      "Value: 3, Random: 3\n",
      "Value: 4, Random: 2\n"
     ]
    }
   ],
   "source": [
    "class Node:\n",
    "    def __init__(self, val, next=None, random=None):\n",
    "        self.val = val\n",
    "        self.next = next\n",
    "        self.random = random\n",
    "\n",
    "def clone_linked_list(head):\n",
    "    if not head:\n",
    "        return None\n",
    "    \n",
    "    current = head\n",
    "    while current:\n",
    "        copied_node = Node(current.val)\n",
    "        copied_node.next = current.next\n",
    "        current.next = copied_node\n",
    "        current = copied_node.next\n",
    "    \n",
    "    current = head\n",
    "    while current:\n",
    "        if current.random:\n",
    "            current.next.random = current.random.next\n",
    "        current = current.next.next\n",
    "    \n",
    "    original_head = head\n",
    "    copied_head = head.next\n",
    "    copied_current = copied_head\n",
    "    \n",
    "    while original_head:\n",
    "        original_head.next = copied_current.next\n",
    "        original_head = original_head.next\n",
    "        \n",
    "        if original_head:\n",
    "            copied_current.next = original_head.next\n",
    "            copied_current = copied_current.next\n",
    "    \n",
    "    return copied_head\n",
    "\n",
    "def print_linked_list(head):\n",
    "    current = head\n",
    "    while current:\n",
    "        random_val = current.random.val if current.random else None\n",
    "        print(f\"Value: {current.val}, Random: {random_val}\")\n",
    "        current = current.next\n",
    "\n",
    "head = Node(1)\n",
    "head.next = Node(2)\n",
    "head.next.next = Node(3)\n",
    "head.next.next.next = Node(4)\n",
    "\n",
    "\n",
    "head.random = head.next.next  \n",
    "head.next.random = head  \n",
    "head.next.next.random = head.next.next  \n",
    "head.next.next.next.random = head.next  \n",
    "\n",
    "print(\"Original linked list:\")\n",
    "print_linked_list(head)\n",
    "\n",
    "cloned_head = clone_linked_list(head)\n",
    "\n",
    "print(\"Cloned linked list:\")\n",
    "print_linked_list(cloned_head)\n",
    " "
   ]
  },
  {
   "cell_type": "code",
   "execution_count": 82,
   "id": "60381500-ba59-4722-a989-070db267e7c5",
   "metadata": {
    "tags": []
   },
   "outputs": [
    {
     "name": "stdout",
     "output_type": "stream",
     "text": [
      "The original linked list:\n",
      "1(3) -> 2(1) -> 3(5) -> 4(3) -> 5(2)\n",
      "The cloned linked list:\n",
      "1(3) -> 2(1) -> 3(5) -> 4(3) -> 5(2)\n"
     ]
    }
   ],
   "source": [
    "class Node:\n",
    "    def __init__(self, val):\n",
    "        self.val = val\n",
    "        self.next = None\n",
    "        self.arbitrary = None\n",
    "\n",
    "def clone_linked_list(head):\n",
    "    mapping = {}\n",
    "    temp = head\n",
    "    new_head = Node(temp.val)\n",
    "    mapping[temp] = new_head\n",
    "\n",
    "    while temp.next:\n",
    "        new_head.next = Node(temp.next.val)\n",
    "        temp = temp.next\n",
    "        new_head = new_head.next\n",
    "        mapping[temp] = new_head\n",
    "\n",
    "    temp = head\n",
    "\n",
    "    \n",
    "    while temp:\n",
    "        mapping[temp].arbitrary = mapping[temp.arbitrary]\n",
    "        temp = temp.next\n",
    "\n",
    "    \n",
    "    return mapping[head]\n",
    "\n",
    "def print_linked_list(head):\n",
    "    result = []\n",
    "    while head:\n",
    "        arbitrary_val = head.arbitrary.val if head.arbitrary else \"None\"\n",
    "        result.append(f\"{head.val}({arbitrary_val})\")\n",
    "        head = head.next\n",
    "    print(\" -> \".join(result))\n",
    "\n",
    "head = Node(1)\n",
    "head.next = Node(2)\n",
    "head.next.next = Node(3)\n",
    "head.next.next.next = Node(4)\n",
    "head.next.next.next.next = Node(5)\n",
    "head.arbitrary = head.next.next\n",
    "head.next.arbitrary = head\n",
    "head.next.next.arbitrary = head.next.next.next.next\n",
    "head.next.next.next.arbitrary = head.next.next\n",
    "head.next.next.next.next.arbitrary = head.next\n",
    "\n",
    "print(\"The original linked list:\")\n",
    "print_linked_list(head)\n",
    "\n",
    "cloned_head = clone_linked_list(head)\n",
    "\n",
    "print(\"The cloned linked list:\")\n",
    "print_linked_list(cloned_head)\n"
   ]
  },
  {
   "cell_type": "code",
   "execution_count": null,
   "id": "48f1b586-12ef-49d1-ad90-acc3bb3c0014",
   "metadata": {},
   "outputs": [],
   "source": []
  },
  {
   "cell_type": "code",
   "execution_count": null,
   "id": "522ce624-dd27-461b-9bbf-ae5b912c1d0e",
   "metadata": {},
   "outputs": [],
   "source": []
  }
 ],
 "metadata": {
  "kernelspec": {
   "display_name": "Python 3 (ipykernel)",
   "language": "python",
   "name": "python3"
  },
  "language_info": {
   "codemirror_mode": {
    "name": "ipython",
    "version": 3
   },
   "file_extension": ".py",
   "mimetype": "text/x-python",
   "name": "python",
   "nbconvert_exporter": "python",
   "pygments_lexer": "ipython3",
   "version": "3.11.5"
  }
 },
 "nbformat": 4,
 "nbformat_minor": 5
}
